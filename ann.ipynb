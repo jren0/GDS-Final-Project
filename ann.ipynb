{
 "cells": [
  {
   "cell_type": "code",
   "execution_count": null,
   "metadata": {},
   "outputs": [],
   "source": [
    "import pandas as pd\n",
    "import matplotlib as plt\n",
    "import seaborn as sns\n",
    "import numpy as np\n",
    "from sklearn.preprocessing import OrdinalEncoder\n",
    "\n",
    "\n",
    "# Get train and test data as Pandas DataFrames\n",
    "def get_data():\n",
    "\n",
    "    train_df = pd.read_csv('train.csv')\n",
    "    test_df = pd.read_csv('test.csv')\n",
    "\n",
    "    s = (train_df.dtypes == 'object')\n",
    "    object_cols = list(s[s].index)\n",
    "\n",
    "    ordinal_encoder = OrdinalEncoder()\n",
    "    label_train_df = train_df.copy()\n",
    "    label_test_df = test_df.copy()\n",
    "    label_train_df[object_cols] = ordinal_encoder.fit_transform(train_df[object_cols])\n",
    "    label_test_df[object_cols] = ordinal_encoder.transform(test_df[object_cols])\n",
    "    \n",
    "    label_train_df = label_train_df.fillna(0)\n",
    "    \n",
    "\n",
    "    y = np.array(label_train_df['site_eui']).reshape(-1,1)\n",
    "    #X = label_train_df.drop()\n",
    "    X = label_train_df.drop(columns=['site_eui', 'id'])\n",
    "\n",
    "    return \n"
   ]
  }
 ],
 "metadata": {
  "language_info": {
   "name": "python"
  }
 },
 "nbformat": 4,
 "nbformat_minor": 2
}
