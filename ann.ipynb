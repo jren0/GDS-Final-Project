{
 "cells": [
  {
   "cell_type": "code",
   "execution_count": 7,
   "metadata": {},
   "outputs": [],
   "source": [
    "import pandas as pd\n",
    "from matplotlib import pyplot as plt\n",
    "import seaborn as sns\n",
    "import numpy as np\n",
    "from sklearn.preprocessing import OrdinalEncoder\n",
    "from sklearn.neural_network import MLPRegressor\n",
    "from sklearn.model_selection import train_test_split\n",
    "\n",
    "\n",
    "# Get train and test data as Pandas DataFrames\n",
    "# For test.csv, we do not have 'site_eui' columns because that is what we are trying to predict.\n",
    "def get_data():\n",
    "\n",
    "    train_df = pd.read_csv('train.csv')\n",
    "    test_df = pd.read_csv('test.csv')\n",
    "\n",
    "    s = (train_df.dtypes == 'object')\n",
    "    object_cols = list(s[s].index)\n",
    "\n",
    "    ordinal_encoder = OrdinalEncoder()\n",
    "    label_train_df = train_df.copy()\n",
    "    label_test_df = test_df.copy()\n",
    "    label_train_df[object_cols] = ordinal_encoder.fit_transform(train_df[object_cols])\n",
    "    label_test_df[object_cols] = ordinal_encoder.transform(test_df[object_cols])\n",
    "    \n",
    "    label_train_df = label_train_df.fillna(0)\n",
    "    label_test_df = label_test_df.fillna(0)\n",
    "\n",
    "    y_train = np.array(label_train_df['site_eui']).reshape(-1,1)\n",
    "    #X = label_train_df.drop()\n",
    "    X_train = label_train_df.drop(columns=['site_eui', 'id'])\n",
    "\n",
    "    #X = label_train_df.drop()\n",
    "    X_test = label_test_df.drop(columns=['id'])\n",
    "\n",
    "    return X_train, X_test, y_train\n"
   ]
  },
  {
   "cell_type": "code",
   "execution_count": 12,
   "metadata": {},
   "outputs": [
    {
     "name": "stdout",
     "output_type": "stream",
     "text": [
      "Score = 0.042504558424741545\n"
     ]
    }
   ],
   "source": [
    "### RUN ARTIFICIAL NEURAL NETWORK ###\n",
    "\n",
    "X, X_test_unlabeled, y = get_data()\n",
    "X_train, X_test, y_train, y_test = train_test_split(X, y, test_size=0.3)\n",
    "\n",
    "mlp = MLPRegressor(hidden_layer_sizes = (20,20,20,20,20,20,20), activation = 'relu', max_iter=6000)\n",
    "mlp = mlp.fit(X_train, np.ravel(y_train))\n",
    "\n",
    "y_pred = mlp.predict(X_test)\n",
    "score = mlp.score(X_test, y_test)\n",
    "print(\"Score =\", score)"
   ]
  },
  {
   "cell_type": "code",
   "execution_count": null,
   "metadata": {},
   "outputs": [],
   "source": []
  }
 ],
 "metadata": {
  "kernelspec": {
   "display_name": "base",
   "language": "python",
   "name": "python3"
  },
  "language_info": {
   "codemirror_mode": {
    "name": "ipython",
    "version": 3
   },
   "file_extension": ".py",
   "mimetype": "text/x-python",
   "name": "python",
   "nbconvert_exporter": "python",
   "pygments_lexer": "ipython3",
   "version": "3.10.10"
  }
 },
 "nbformat": 4,
 "nbformat_minor": 2
}
