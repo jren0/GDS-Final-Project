{
 "cells": [
  {
   "cell_type": "code",
   "execution_count": 26,
   "metadata": {},
   "outputs": [],
   "source": [
    "from sklearn.linear_model import RidgeCV\n",
    "from get_data import *\n",
    "from sklearn.model_selection import train_test_split\n",
    "import numpy as np"
   ]
  },
  {
   "cell_type": "code",
   "execution_count": 27,
   "metadata": {},
   "outputs": [
    {
     "ename": "NameError",
     "evalue": "name 'get_full_data' is not defined",
     "output_type": "error",
     "traceback": [
      "\u001b[0;31m---------------------------------------------------------------------------\u001b[0m",
      "\u001b[0;31mNameError\u001b[0m                                 Traceback (most recent call last)",
      "\u001b[1;32m/home/jren/gds_final_project/GDS-Final-Project/linear_regression.ipynb Cell 2\u001b[0m line \u001b[0;36m3\n\u001b[1;32m      <a href='vscode-notebook-cell://wsl%2Bubuntu/home/jren/gds_final_project/GDS-Final-Project/linear_regression.ipynb#W3sdnNjb2RlLXJlbW90ZQ%3D%3D?line=0'>1</a>\u001b[0m \u001b[39m### Linear regression on full dataset\u001b[39;00m\n\u001b[0;32m----> <a href='vscode-notebook-cell://wsl%2Bubuntu/home/jren/gds_final_project/GDS-Final-Project/linear_regression.ipynb#W3sdnNjb2RlLXJlbW90ZQ%3D%3D?line=2'>3</a>\u001b[0m X, y \u001b[39m=\u001b[39m get_full_data()\n\u001b[1;32m      <a href='vscode-notebook-cell://wsl%2Bubuntu/home/jren/gds_final_project/GDS-Final-Project/linear_regression.ipynb#W3sdnNjb2RlLXJlbW90ZQ%3D%3D?line=3'>4</a>\u001b[0m X_train, X_test, y_train, y_test \u001b[39m=\u001b[39m train_test_split(X, y, test_size\u001b[39m=\u001b[39m\u001b[39m0.3\u001b[39m)\n\u001b[1;32m      <a href='vscode-notebook-cell://wsl%2Bubuntu/home/jren/gds_final_project/GDS-Final-Project/linear_regression.ipynb#W3sdnNjb2RlLXJlbW90ZQ%3D%3D?line=5'>6</a>\u001b[0m ridge_fore \u001b[39m=\u001b[39m RidgeCV(alphas\u001b[39m=\u001b[39mnp\u001b[39m.\u001b[39mlogspace(\u001b[39m-\u001b[39m\u001b[39m6\u001b[39m, \u001b[39m6\u001b[39m, num\u001b[39m=\u001b[39m\u001b[39m5\u001b[39m))\u001b[39m.\u001b[39mfit(X_train, y_train)\n",
      "\u001b[0;31mNameError\u001b[0m: name 'get_full_data' is not defined"
     ]
    }
   ],
   "source": [
    "### Linear regression on full dataset\n",
    "\n",
    "X, y = get_full_data()\n",
    "X_train, X_test, y_train, y_test = train_test_split(X, y, test_size=0.3)\n",
    "\n",
    "ridge_fore = RidgeCV(alphas=np.logspace(-6, 6, num=5)).fit(X_train, y_train)\n",
    "avg_var_score = ridge_fore.score(X_test, y_test)\n",
    "print(\"Score for linear regression on full dataset =\", avg_var_score)"
   ]
  },
  {
   "cell_type": "code",
   "execution_count": 28,
   "metadata": {},
   "outputs": [
    {
     "name": "stdout",
     "output_type": "stream",
     "text": [
      "Score for linear regression on avg variable dataset = 0.02916043253542544\n"
     ]
    }
   ],
   "source": [
    "### Linear regression on avg variable dataset\n",
    "X, y = get_data_avg_vars()\n",
    "X_train, X_test, y_train, y_test = train_test_split(X, y, test_size=0.3)\n",
    "\n",
    "ridge_fore = RidgeCV(alphas=np.logspace(-6, 6, num=5)).fit(X_train, y_train)\n",
    "avg_var_score = ridge_fore.score(X_test, y_test)\n",
    "print(\"Score for linear regression on avg variable dataset =\", avg_var_score)"
   ]
  },
  {
   "cell_type": "code",
   "execution_count": null,
   "metadata": {},
   "outputs": [],
   "source": []
  }
 ],
 "metadata": {
  "kernelspec": {
   "display_name": "base",
   "language": "python",
   "name": "python3"
  },
  "language_info": {
   "codemirror_mode": {
    "name": "ipython",
    "version": 3
   },
   "file_extension": ".py",
   "mimetype": "text/x-python",
   "name": "python",
   "nbconvert_exporter": "python",
   "pygments_lexer": "ipython3",
   "version": "3.10.10"
  }
 },
 "nbformat": 4,
 "nbformat_minor": 2
}
