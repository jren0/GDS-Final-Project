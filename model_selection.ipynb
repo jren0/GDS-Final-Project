{
 "cells": [
  {
   "cell_type": "code",
   "execution_count": 7,
   "metadata": {},
   "outputs": [],
   "source": [
    "import matplotlib.pyplot as plt\n",
    "import numpy as np\n",
    "import pandas as pd\n",
    "from sklearn.preprocessing import OrdinalEncoder\n",
    "from sklearn.feature_selection import SequentialFeatureSelector\n",
    "from sklearn.linear_model import RidgeCV"
   ]
  },
  {
   "cell_type": "code",
   "execution_count": 8,
   "metadata": {},
   "outputs": [],
   "source": [
    "# Get train and test data as Pandas DataFrames\n",
    "# For test.csv, we do not have 'site_eui' columns because that is what we are trying to predict.\n",
    "def get_data():\n",
    "\n",
    "    train_df = pd.read_csv('train.csv')\n",
    "    test_df = pd.read_csv('test.csv')\n",
    "\n",
    "    s = (train_df.dtypes == 'object')\n",
    "    object_cols = list(s[s].index)\n",
    "\n",
    "    ordinal_encoder = OrdinalEncoder()\n",
    "    label_train_df = train_df.copy()\n",
    "    label_test_df = test_df.copy()\n",
    "    label_train_df[object_cols] = ordinal_encoder.fit_transform(train_df[object_cols])\n",
    "    label_test_df[object_cols] = ordinal_encoder.transform(test_df[object_cols])\n",
    "    \n",
    "    label_train_df = label_train_df.fillna(0)\n",
    "    label_test_df = label_test_df.fillna(0)\n",
    "\n",
    "    y_train = np.array(label_train_df['site_eui']).reshape(-1,1)\n",
    "    #X = label_train_df.drop()\n",
    "    X_train = label_train_df.drop(columns=['site_eui', 'id'])\n",
    "\n",
    "    #X = label_train_df.drop()\n",
    "    X_test = label_test_df.drop(columns=['id'])\n",
    "\n",
    "    return X_train, X_test, y_train"
   ]
  },
  {
   "cell_type": "code",
   "execution_count": 9,
   "metadata": {},
   "outputs": [
    {
     "name": "stdout",
     "output_type": "stream",
     "text": [
      "Index(['Year_Factor', 'State_Factor', 'building_class', 'facility_type',\n",
      "       'floor_area', 'year_built', 'energy_star_rating', 'ELEVATION',\n",
      "       'january_min_temp', 'january_avg_temp', 'january_max_temp',\n",
      "       'february_min_temp', 'february_avg_temp', 'february_max_temp',\n",
      "       'march_min_temp', 'march_avg_temp', 'march_max_temp', 'april_min_temp',\n",
      "       'april_avg_temp', 'april_max_temp', 'may_min_temp', 'may_avg_temp',\n",
      "       'may_max_temp', 'june_min_temp', 'june_avg_temp', 'june_max_temp',\n",
      "       'july_min_temp', 'july_avg_temp', 'july_max_temp', 'august_min_temp',\n",
      "       'august_avg_temp', 'august_max_temp', 'september_min_temp',\n",
      "       'september_avg_temp', 'september_max_temp', 'october_min_temp',\n",
      "       'october_avg_temp', 'october_max_temp', 'november_min_temp',\n",
      "       'november_avg_temp', 'november_max_temp', 'december_min_temp',\n",
      "       'december_avg_temp', 'december_max_temp', 'cooling_degree_days',\n",
      "       'heating_degree_days', 'precipitation_inches', 'snowfall_inches',\n",
      "       'snowdepth_inches', 'avg_temp', 'days_below_30F', 'days_below_20F',\n",
      "       'days_below_10F', 'days_below_0F', 'days_above_80F', 'days_above_90F',\n",
      "       'days_above_100F', 'days_above_110F', 'direction_max_wind_speed',\n",
      "       'direction_peak_wind_speed', 'max_wind_speed', 'days_with_fog'],\n",
      "      dtype='object')\n",
      "\n",
      "Number of features = 62\n"
     ]
    }
   ],
   "source": [
    "# Get feature names\n",
    "train_df = pd.read_csv('train.csv')\n",
    "train_df = train_df.drop(columns=['site_eui', 'id'])\n",
    "\n",
    "feature_names = train_df.columns\n",
    "print(feature_names)\n",
    "print()\n",
    "print(\"Number of features =\", len(feature_names))"
   ]
  },
  {
   "cell_type": "code",
   "execution_count": 10,
   "metadata": {},
   "outputs": [
    {
     "name": "stdout",
     "output_type": "stream",
     "text": [
      "Features selected by forward sequential selection: Index(['State_Factor', 'building_class', 'facility_type', 'energy_star_rating',\n",
      "       'ELEVATION', 'january_min_temp', 'january_avg_temp',\n",
      "       'february_min_temp', 'february_max_temp', 'march_avg_temp',\n",
      "       'march_max_temp', 'april_min_temp', 'may_avg_temp', 'june_avg_temp',\n",
      "       'july_max_temp', 'august_avg_temp', 'september_min_temp',\n",
      "       'october_avg_temp', 'november_min_temp', 'december_min_temp',\n",
      "       'heating_degree_days', 'snowfall_inches', 'avg_temp', 'days_below_0F',\n",
      "       'days_above_100F', 'days_above_110F', 'direction_max_wind_speed',\n",
      "       'direction_peak_wind_speed', 'max_wind_speed', 'days_with_fog'],\n",
      "      dtype='object')\n",
      "Features selected by backward sequential selection: Index(['facility_type', 'floor_area', 'energy_star_rating', 'january_min_temp',\n",
      "       'february_min_temp', 'february_avg_temp', 'february_max_temp',\n",
      "       'march_max_temp', 'april_max_temp', 'may_avg_temp', 'may_max_temp',\n",
      "       'june_max_temp', 'july_min_temp', 'july_avg_temp', 'august_max_temp',\n",
      "       'september_avg_temp', 'october_min_temp', 'october_max_temp',\n",
      "       'november_avg_temp', 'november_max_temp', 'december_avg_temp',\n",
      "       'cooling_degree_days', 'precipitation_inches', 'snowfall_inches',\n",
      "       'snowdepth_inches', 'days_below_30F', 'days_below_20F',\n",
      "       'days_below_10F', 'days_above_80F', 'days_above_90F'],\n",
      "      dtype='object')\n"
     ]
    }
   ],
   "source": [
    "X_train, X_test, y_train = get_data()\n",
    "\n",
    "# Perform forward and backward selection\n",
    "ridge = RidgeCV(alphas=np.logspace(-6, 6, num=5)).fit(X_train, y_train)\n",
    "sfs_forward = SequentialFeatureSelector(\n",
    "    ridge, n_features_to_select=30, direction=\"forward\"\n",
    ").fit(X_train, y_train)\n",
    "\n",
    "sfs_backward = SequentialFeatureSelector(\n",
    "    ridge, n_features_to_select=30, direction=\"backward\"\n",
    ").fit(X_train, y_train)\n",
    "\n",
    "print(\n",
    "    \"Features selected by forward sequential selection: \"\n",
    "    f\"{feature_names[sfs_forward.get_support()]}\"\n",
    ")\n",
    "\n",
    "print(\n",
    "    \"Features selected by backward sequential selection: \"\n",
    "    f\"{feature_names[sfs_backward.get_support()]}\"\n",
    ")"
   ]
  },
  {
   "cell_type": "code",
   "execution_count": 12,
   "metadata": {},
   "outputs": [
    {
     "name": "stdout",
     "output_type": "stream",
     "text": [
      "Forward selection: ['State_Factor', 'building_class', 'facility_type', 'energy_star_rating', 'ELEVATION', 'january_min_temp', 'january_avg_temp', 'february_min_temp', 'february_max_temp', 'march_avg_temp', 'march_max_temp', 'april_min_temp', 'may_avg_temp', 'june_avg_temp', 'july_max_temp', 'august_avg_temp', 'september_min_temp', 'october_avg_temp', 'november_min_temp', 'december_min_temp', 'heating_degree_days', 'snowfall_inches', 'avg_temp', 'days_below_0F', 'days_above_100F', 'days_above_110F', 'direction_max_wind_speed', 'direction_peak_wind_speed', 'max_wind_speed', 'days_with_fog']\n",
      "Backward selection: ['facility_type', 'floor_area', 'energy_star_rating', 'january_min_temp', 'february_min_temp', 'february_avg_temp', 'february_max_temp', 'march_max_temp', 'april_max_temp', 'may_avg_temp', 'may_max_temp', 'june_max_temp', 'july_min_temp', 'july_avg_temp', 'august_max_temp', 'september_avg_temp', 'october_min_temp', 'october_max_temp', 'november_avg_temp', 'november_max_temp', 'december_avg_temp', 'cooling_degree_days', 'precipitation_inches', 'snowfall_inches', 'snowdepth_inches', 'days_below_30F', 'days_below_20F', 'days_below_10F', 'days_above_80F', 'days_above_90F']\n"
     ]
    }
   ],
   "source": [
    "print(\"Forward selection:\", ['State_Factor', 'building_class', 'facility_type', 'energy_star_rating',\n",
    "       'ELEVATION', 'january_min_temp', 'january_avg_temp',\n",
    "       'february_min_temp', 'february_max_temp', 'march_avg_temp',\n",
    "       'march_max_temp', 'april_min_temp', 'may_avg_temp', 'june_avg_temp',\n",
    "       'july_max_temp', 'august_avg_temp', 'september_min_temp',\n",
    "       'october_avg_temp', 'november_min_temp', 'december_min_temp',\n",
    "       'heating_degree_days', 'snowfall_inches', 'avg_temp', 'days_below_0F',\n",
    "       'days_above_100F', 'days_above_110F', 'direction_max_wind_speed',\n",
    "       'direction_peak_wind_speed', 'max_wind_speed', 'days_with_fog'])\n",
    "\n",
    "print(\"Backward selection:\", ['facility_type', 'floor_area', 'energy_star_rating', 'january_min_temp',\n",
    "       'february_min_temp', 'february_avg_temp', 'february_max_temp',\n",
    "       'march_max_temp', 'april_max_temp', 'may_avg_temp', 'may_max_temp',\n",
    "       'june_max_temp', 'july_min_temp', 'july_avg_temp', 'august_max_temp',\n",
    "       'september_avg_temp', 'october_min_temp', 'october_max_temp',\n",
    "       'november_avg_temp', 'november_max_temp', 'december_avg_temp',\n",
    "       'cooling_degree_days', 'precipitation_inches', 'snowfall_inches',\n",
    "       'snowdepth_inches', 'days_below_30F', 'days_below_20F',\n",
    "       'days_below_10F', 'days_above_80F', 'days_above_90F'])"
   ]
  },
  {
   "cell_type": "code",
   "execution_count": null,
   "metadata": {},
   "outputs": [],
   "source": []
  }
 ],
 "metadata": {
  "kernelspec": {
   "display_name": "base",
   "language": "python",
   "name": "python3"
  },
  "language_info": {
   "codemirror_mode": {
    "name": "ipython",
    "version": 3
   },
   "file_extension": ".py",
   "mimetype": "text/x-python",
   "name": "python",
   "nbconvert_exporter": "python",
   "pygments_lexer": "ipython3",
   "version": "3.10.10"
  }
 },
 "nbformat": 4,
 "nbformat_minor": 2
}
